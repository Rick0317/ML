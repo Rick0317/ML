{
  "nbformat": 4,
  "nbformat_minor": 0,
  "metadata": {
    "colab": {
      "provenance": []
    },
    "kernelspec": {
      "name": "python3",
      "display_name": "Python 3"
    },
    "language_info": {
      "name": "python"
    }
  },
  "cells": [
    {
      "cell_type": "code",
      "execution_count": 1,
      "metadata": {
        "id": "_j9woMPgy5Rh"
      },
      "outputs": [],
      "source": [
        "import torch\n",
        "import torch.nn as nn\n",
        "import typing\n",
        "import csv"
      ]
    },
    {
      "cell_type": "code",
      "source": [
        "array = torch.zeros(3)\n"
      ],
      "metadata": {
        "id": "xkMUBdrKy-G6"
      },
      "execution_count": 2,
      "outputs": []
    },
    {
      "cell_type": "code",
      "source": [
        "class Net(nn.Module):\n",
        "    def __init__(self, numin, numout):\n",
        "        super(Net, self).__init__()\n",
        "\n",
        "        fc = []\n",
        "        fc.append(nn.Linear(numin, numout))\n",
        "        for i in range(20):\n",
        "            fc.append(nn.Linear(numout, numout))\n",
        "        self.fc = nn.ModuleList(fc)\n",
        "        print(self.fc)\n",
        "\n",
        "        self.relu = nn.ReLU()\n",
        "        #self.sig = nn.Sigmoid()\n",
        "\n",
        "    def forward(self, x):\n",
        "        for fc in self.fc:\n",
        "            x = fc(x)\n",
        "            x = self.relu(x)\n",
        "            # x = self.sig \n",
        "        return x"
      ],
      "metadata": {
        "id": "5eTJpw8izA8a"
      },
      "execution_count": 3,
      "outputs": []
    },
    {
      "cell_type": "code",
      "source": [
        "class Main:\n",
        "    def start(self) -> int:\n",
        "        device = 'cpu'\n",
        "        # device = 'cuda'\n",
        "\n",
        "        numInput = 400\n",
        "        numOutput = 1420\n",
        "\n",
        "        try:\n",
        "            with open('data/input.csv', 'r', encoding='shift-jis') as f:\n",
        "                reader = csv.reader(f)\n",
        "                next(reader)  # skip the header\n",
        "                inputs = []\n",
        "                for row in reader:\n",
        "                    v = []\n",
        "                    for i in range(1, len(row)):\n",
        "                        v.append(float(row[i]))\n",
        "                    inputs.append(v)\n",
        "        except FileNotFoundError as e:\n",
        "            print(e)\n",
        "            return 0\n",
        "        '''\n",
        "        for v in inputs:\n",
        "            m = max(v)\n",
        "            print(m)\n",
        "        '''\n",
        "        # print(max(inputs))\n",
        "        # print(max(max(inputs)))\n",
        "        # print(inputs)\n",
        "\n",
        "        try:\n",
        "            with open('data/target.csv', 'r',\n",
        "                      encoding='shift-jis') as f:\n",
        "                reader = csv.reader(f)\n",
        "                next(reader)  # skip the header\n",
        "                targets = []\n",
        "                for row in reader:\n",
        "                    v = []\n",
        "                    for i in range(1, len(row)):\n",
        "                        v.append(float(row[i]))\n",
        "                    targets.append(v)\n",
        "        except FileNotFoundError as e:\n",
        "            print(e)\n",
        "            return 0\n",
        "\n",
        "        # print(len(inputs[0]))\n",
        "        # print(len(targets[0]))\n",
        "\n",
        "        trainInputs = torch.tensor(inputs)\n",
        "        # print(trainInputs)\n",
        "        trainInputs = trainInputs.to(device)\n",
        "\n",
        "        trainTargets = torch.tensor(targets)\n",
        "        # print(trainTargets)\n",
        "        trainTargets = trainTargets.to(device)\n",
        "\n",
        "        net: typing.Union[Net, torch.nn.DataParallel]\n",
        "        net = Net(numInput, numOutput)\n",
        "        if True and device != 'cpu':\n",
        "            net = torch.nn.DataParallel(net)  # use multiple GPUs\n",
        "        net = net.to(device)\n",
        "\n",
        "        criterion = torch.nn.MSELoss()\n",
        "        optimizer = torch.optim.Adam(net.parameters(), lr=0.01)\n",
        "\n",
        "        for loop in range(1000):\n",
        "            optimizer.zero_grad()\n",
        "\n",
        "            trainOutputs = net(trainInputs)\n",
        "            loss = criterion(trainOutputs, trainTargets)\n",
        "            print(loss.item())\n",
        "\n",
        "            loss.backward()\n",
        "            optimizer.step()\n",
        "\n",
        "        return 0"
      ],
      "metadata": {
        "id": "mWty1A5ZzC8C"
      },
      "execution_count": 4,
      "outputs": []
    },
    {
      "cell_type": "code",
      "source": [
        "Main().start()"
      ],
      "metadata": {
        "id": "c4d8Cu0nzPi0"
      },
      "execution_count": null,
      "outputs": []
    }
  ]
}