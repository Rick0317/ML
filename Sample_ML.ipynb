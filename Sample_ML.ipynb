{
  "cells": [
    {
      "cell_type": "code",
      "execution_count": 43,
      "metadata": {
        "id": "_j9woMPgy5Rh"
      },
      "outputs": [],
      "source": [
        "import torch\n",
        "import torch.nn as nn\n",
        "import typing\n",
        "import csv\n",
        "from sklearn import preprocessing\n",
        "import numpy as np\n",
        "from matplotlib import pyplot as plt"
      ]
    },
    {
      "cell_type": "code",
      "execution_count": 44,
      "metadata": {
        "colab": {
          "base_uri": "https://localhost:8080/"
        },
        "id": "AoNr5s0b106n",
        "outputId": "7e7cc4da-0331-4865-e4f8-340bfd0325a2"
      },
      "outputs": [
        {
          "name": "stdout",
          "output_type": "stream",
          "text": [
            "Drive already mounted at /content/drive; to attempt to forcibly remount, call drive.mount(\"/content/drive\", force_remount=True).\n"
          ]
        }
      ],
      "source": [
        "from google.colab import drive\n",
        "drive.mount('/content/drive')"
      ]
    },
    {
      "cell_type": "code",
      "execution_count": 46,
      "metadata": {
        "id": "5eTJpw8izA8a"
      },
      "outputs": [],
      "source": [
        "class Net(nn.Module):\n",
        "    def __init__(self, numin, numout):\n",
        "        super(Net, self).__init__()\n",
        "        fc = []\n",
        "        fc.append(nn.Linear(numin, numout))\n",
        "        for i in range(20):\n",
        "            fc.append(nn.Linear(numout, numout))\n",
        "        self.fc = nn.ModuleList(fc)\n",
        "        #self.relu = nn.ReLU()\n",
        "        self.sig = nn.Sigmoid()\n",
        "\n",
        "    def forward(self, x):\n",
        "        for fc in self.fc:\n",
        "            x = fc(x)\n",
        "            #x = self.relu(x)\n",
        "            x = self.sig(x) \n",
        "        return x"
      ]
    },
    {
      "cell_type": "code",
      "execution_count": 61,
      "metadata": {
        "colab": {
          "base_uri": "https://localhost:8080/"
        },
        "id": "H2gWIQAc307M",
        "outputId": "8758b6d7-7a1a-4b7c-bacf-6a1b86774120"
      },
      "outputs": [
        {
          "name": "stdout",
          "output_type": "stream",
          "text": [
            "350 50\n",
            "50 50\n"
          ]
        }
      ],
      "source": [
        "try:\n",
        "    with open('input.csv', 'r', encoding='shift-jis') as f:\n",
        "        reader = csv.reader(f)\n",
        "        next(reader)  # skip the header\n",
        "        inputs = []\n",
        "        for row in reader:\n",
        "            v = []\n",
        "            for i in range(1, len(row)):\n",
        "                v.append(float(row[i]))\n",
        "            inputs.append(v)\n",
        "  \n",
        "        train_input = []\n",
        "        for i in range(len(inputs[0])-50):\n",
        "          each_data=[]\n",
        "          for k in range(50):\n",
        "            each_data.append(inputs[k][i])\n",
        "          train_input.append(each_data)\n",
        "        print(len(train_input), len(train_input[0]))\n",
        "\n",
        "        test_input = []\n",
        "        for i in range(len(inputs[0])-50, len(inputs[0])):\n",
        "          each_data = []\n",
        "          for k in range(50):\n",
        "            each_data.append(inputs[k][i])\n",
        "          test_input.append(each_data)\n",
        "        print(len(test_input), len(test_input[0]))\n",
        "\n",
        "except FileNotFoundError as e:\n",
        "    print(e)"
      ]
    },
    {
      "cell_type": "code",
      "execution_count": 62,
      "metadata": {
        "colab": {
          "base_uri": "https://localhost:8080/"
        },
        "id": "NWf6W9mY4V8f",
        "outputId": "20c40223-9e40-49f0-ccee-0b95daa03da5"
      },
      "outputs": [
        {
          "name": "stdout",
          "output_type": "stream",
          "text": [
            "350 50\n",
            "50 50\n"
          ]
        }
      ],
      "source": [
        "try:\n",
        "    with open('target.csv', 'r',\n",
        "              encoding='shift-jis') as f:\n",
        "        reader = csv.reader(f)\n",
        "        next(reader)  # skip the header\n",
        "        targets = []\n",
        "        for row in reader:\n",
        "            v = []\n",
        "            for i in range(1, len(row)):\n",
        "                v.append(float(row[i]))\n",
        "            targets.append(v)\n",
        "        \n",
        "        train_target = []\n",
        "        for i in range(350):\n",
        "          each_data=[]\n",
        "          for k in range(50):\n",
        "            each_data.append(targets[k][i])\n",
        "          train_target.append(each_data)\n",
        "        print(len(train_target), len(train_target[0]))\n",
        "\n",
        "        test_target = []\n",
        "        for i in range(350, 400):\n",
        "          each_data = []\n",
        "          for k in range(50):\n",
        "            each_data.append(targets[k][i])\n",
        "          test_target.append(each_data)\n",
        "        print(len(test_target), len(test_target[0]))\n",
        "except FileNotFoundError as e:\n",
        "    print(e)"
      ]
    },
    {
      "cell_type": "code",
      "execution_count": 63,
      "metadata": {
        "id": "cCAwcnA-QVw9"
      },
      "outputs": [],
      "source": [
        "train_input = preprocessing.normalize(np.array(train_input)).astype(float)\n",
        "train_target = preprocessing.normalize(np.array(train_target)).astype(float)\n",
        "\n",
        "test_input = preprocessing.normalize(np.array(test_input)).astype(float)\n",
        "test_target = preprocessing.normalize(np.array(test_target)).astype(float)"
      ]
    },
    {
      "cell_type": "code",
      "execution_count": 65,
      "metadata": {
        "colab": {
          "base_uri": "https://localhost:8080/"
        },
        "id": "knmbrjwGeS_V",
        "outputId": "cd5a8b45-6ad1-4f11-b957-d7db5054a3a0"
      },
      "outputs": [
        {
          "name": "stdout",
          "output_type": "stream",
          "text": [
            "The loss for epoch 1:  0.2427482157945633\n",
            "The loss for epoch 2:  0.17684519290924072\n",
            "The loss for epoch 3:  0.12230417132377625\n",
            "The loss for epoch 4:  0.07860908657312393\n",
            "The loss for epoch 5:  0.046516090631484985\n",
            "The loss for epoch 6:  0.025612695142626762\n",
            "The loss for epoch 7:  0.013590361922979355\n",
            "The loss for epoch 8:  0.007324795238673687\n",
            "The loss for epoch 9:  0.004232653882354498\n",
            "The loss for epoch 10:  0.0027234877925366163\n",
            "The loss for epoch 11:  0.0019728976767510176\n",
            "The loss for epoch 12:  0.0015866004396229982\n",
            "The loss for epoch 13:  0.0013797247083857656\n",
            "The loss for epoch 14:  0.0012643940281122923\n",
            "The loss for epoch 15:  0.0011975928209722042\n",
            "The loss for epoch 16:  0.0011575089301913977\n",
            "The loss for epoch 17:  0.001132671139203012\n",
            "The loss for epoch 18:  0.0011168277123942971\n",
            "The loss for epoch 19:  0.0011064549908041954\n",
            "The loss for epoch 20:  0.0010995041811838746\n",
            "The loss for epoch 21:  0.0010947487317025661\n",
            "The loss for epoch 22:  0.001091433921828866\n",
            "The loss for epoch 23:  0.001089085009880364\n",
            "The loss for epoch 24:  0.0010873958235606551\n",
            "The loss for epoch 25:  0.0010861646151170135\n",
            "The loss for epoch 26:  0.0010852570412680507\n",
            "The loss for epoch 27:  0.0010845804354175925\n",
            "The loss for epoch 28:  0.0010840719332918525\n",
            "The loss for epoch 29:  0.0010836859000846744\n",
            "The loss for epoch 30:  0.0010833910200744867\n",
            "The loss for epoch 31:  0.001083164126612246\n",
            "The loss for epoch 32:  0.001082988572306931\n",
            "The loss for epoch 33:  0.0010828519007191062\n",
            "The loss for epoch 34:  0.001082745147868991\n",
            "The loss for epoch 35:  0.0010826613288372755\n",
            "The loss for epoch 36:  0.0010825953213497996\n",
            "The loss for epoch 37:  0.0010825430508702993\n",
            "The loss for epoch 38:  0.0010825014906004071\n",
            "The loss for epoch 39:  0.0010824687778949738\n",
            "The loss for epoch 40:  0.0010824424680322409\n",
            "The loss for epoch 41:  0.0010824213968589902\n",
            "The loss for epoch 42:  0.0010824046330526471\n",
            "The loss for epoch 43:  0.001082391245290637\n",
            "The loss for epoch 44:  0.0010823803022503853\n",
            "The loss for epoch 45:  0.0010823715711012483\n",
            "The loss for epoch 46:  0.0010823644697666168\n",
            "The loss for epoch 47:  0.0010823586490005255\n",
            "The loss for epoch 48:  0.0010823539923876524\n",
            "The loss for epoch 49:  0.0010823500342667103\n",
            "The loss for epoch 50:  0.0010823467746376991\n",
            "The loss for epoch 51:  0.001082344213500619\n",
            "The loss for epoch 52:  0.0010823418851941824\n",
            "The loss for epoch 53:  0.0010823397897183895\n",
            "The loss for epoch 54:  0.0010823383927345276\n",
            "The loss for epoch 55:  0.001082336762920022\n",
            "The loss for epoch 56:  0.001082335482351482\n",
            "The loss for epoch 57:  0.0010823342017829418\n",
            "The loss for epoch 58:  0.0010823331540450454\n",
            "The loss for epoch 59:  0.0010823322227224708\n",
            "The loss for epoch 60:  0.0010823310585692525\n",
            "The loss for epoch 61:  0.0010823302436619997\n",
            "The loss for epoch 62:  0.0010823291959241033\n",
            "The loss for epoch 63:  0.0010823284974321723\n",
            "The loss for epoch 64:  0.0010823275661095977\n",
            "The loss for epoch 65:  0.001082326634787023\n",
            "The loss for epoch 66:  0.0010823254706338048\n",
            "The loss for epoch 67:  0.001082324655726552\n",
            "The loss for epoch 68:  0.001082323957234621\n",
            "The loss for epoch 69:  0.0010823230259120464\n",
            "The loss for epoch 70:  0.00108232197817415\n",
            "The loss for epoch 71:  0.0010823210468515754\n",
            "The loss for epoch 72:  0.0010823202319443226\n",
            "The loss for epoch 73:  0.0010823191842064261\n",
            "The loss for epoch 74:  0.0010823182528838515\n",
            "The loss for epoch 75:  0.001082317205145955\n",
            "The loss for epoch 76:  0.0010823161574080586\n",
            "The loss for epoch 77:  0.001082315226085484\n",
            "The loss for epoch 78:  0.0010823141783475876\n",
            "The loss for epoch 79:  0.0010823131306096911\n",
            "The loss for epoch 80:  0.0010823119664564729\n",
            "The loss for epoch 81:  0.0010823110351338983\n",
            "The loss for epoch 82:  0.0010823099873960018\n",
            "The loss for epoch 83:  0.0010823088232427835\n",
            "The loss for epoch 84:  0.001082307775504887\n",
            "The loss for epoch 85:  0.0010823067277669907\n",
            "The loss for epoch 86:  0.0010823054471984506\n",
            "The loss for epoch 87:  0.0010823042830452323\n",
            "The loss for epoch 88:  0.0010823032353073359\n",
            "The loss for epoch 89:  0.0010823019547387958\n",
            "The loss for epoch 90:  0.0010823009070008993\n",
            "The loss for epoch 91:  0.0010822998592630029\n",
            "The loss for epoch 92:  0.001082298462279141\n",
            "The loss for epoch 93:  0.0010822974145412445\n",
            "The loss for epoch 94:  0.0010822962503880262\n",
            "The loss for epoch 95:  0.0010822949698194861\n",
            "The loss for epoch 96:  0.0010822938056662679\n",
            "The loss for epoch 97:  0.0010822925250977278\n",
            "The loss for epoch 98:  0.0010822913609445095\n",
            "The loss for epoch 99:  0.0010822901967912912\n",
            "The loss for epoch 100:  0.0010822889162227511\n"
          ]
        }
      ],
      "source": [
        "numInput = 50\n",
        "numOutput = 50\n",
        "model = Net(numInput, numOutput)\n",
        "\n",
        "trainInputs = torch.tensor(train_input)\n",
        "trainTargets = torch.tensor(train_target)\n",
        "\n",
        "criterion = torch.nn.MSELoss()\n",
        "optimizer = torch.optim.Adam(model.parameters(), lr=0.01)\n",
        "loss_list = []\n",
        "\n",
        "for epoch in range(100):\n",
        "    optimizer.zero_grad()\n",
        "\n",
        "    trainOutputs = model(trainInputs.float())\n",
        "    loss = criterion(trainOutputs, trainTargets.float())\n",
        "    loss_list.append(loss)\n",
        "    print(\"The loss for epoch \"+str(epoch+1)+\": \",loss.item())\n",
        "\n",
        "    loss.backward()\n",
        "    optimizer.step()"
      ]
    },
    {
      "cell_type": "code",
      "execution_count": 67,
      "metadata": {
        "colab": {
          "base_uri": "https://localhost:8080/",
          "height": 283
        },
        "id": "m_BBObbYYO_c",
        "outputId": "50e24475-59ee-43d0-89bd-248a94780e96"
      },
      "outputs": [
        {
          "data": {
            "text/plain": [
              "[<matplotlib.lines.Line2D at 0x7f7cea2ba990>]"
            ]
          },
          "execution_count": 67,
          "metadata": {},
          "output_type": "execute_result"
        },
        {
          "data": {
            "image/png": "[encoded data removed]",
            "text/plain": [
              "<Figure size 432x288 with 1 Axes>"
            ]
          },
          "metadata": {
            "needs_background": "light"
          },
          "output_type": "display_data"
        }
      ],
      "source": [
        "losses = []\n",
        "for loss in loss_list:\n",
        "  losses.append(loss.item())\n",
        "plt.plot(range(100), losses)"
      ]
    },
    {
      "cell_type": "code",
      "execution_count": 21,
      "metadata": {
        "id": "tmmckaXBAj81"
      },
      "outputs": [],
      "source": [
        "path = \"/content/drive/MyDrive/Machine_Learning_sample/NetModel2.pth\" \n",
        "torch.save(model.state_dict(), path) "
      ]
    },
    {
      "cell_type": "code",
      "execution_count": null,
      "metadata": {
        "id": "5a2GTR-SCW3z"
      },
      "outputs": [],
      "source": [
        "input_size = 1546\n",
        "output_size = 1546\n",
        "model = Net(input_size, output_size) \n",
        "path = \"/content/drive/MyDrive/Machine_Learning_sample/NetModel2.pth\" \n",
        "model.load_state_dict(torch.load(path)) \n",
        "test_input = torch.tensor(test_input)\n",
        "test_target = torch.tensor(test_target)\n",
        "\n",
        "accuracy = 0\n",
        "for i in range(len(test_input)):\n",
        "  predict = model(test_input[i].float())\n",
        "  difference = 0\n",
        "  target = test_target[i].float()\n",
        "  for k in range(len(predict)):\n",
        "    difference += abs(predict[k] - target[k])\n",
        "  print(difference)\n",
        " \n"
      ]
    }
  ],
  "metadata": {
    "colab": {
      "provenance": []
    },
    "kernelspec": {
      "display_name": "Python 3",
      "name": "python3"
    },
    "language_info": {
      "name": "python"
    }
  },
  "nbformat": 4,
  "nbformat_minor": 0
}
